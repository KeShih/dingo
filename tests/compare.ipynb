{
 "cells": [
  {
   "cell_type": "code",
   "execution_count": null,
   "metadata": {},
   "outputs": [],
   "source": [
    "import pulp as pl\n",
    "solver_list = pl.listSolvers()\n",
    "print(solver_list)"
   ]
  },
  {
   "cell_type": "code",
   "execution_count": null,
   "metadata": {},
   "outputs": [],
   "source": [
    "solver_list = pl.listSolvers(onlyAvailable=True)\n",
    "print(solver_list)"
   ]
  },
  {
   "cell_type": "code",
   "execution_count": null,
   "metadata": {},
   "outputs": [],
   "source": [
    "pyomo help --solvers"
   ]
  },
  {
   "cell_type": "code",
   "execution_count": null,
   "metadata": {},
   "outputs": [],
   "source": [
    "import linopy\n",
    "import pandas as pd\n",
    "import xarray as xr\n",
    "m = linopy.Model()\n",
    "time = pd.Index(range(10), name='time')\n",
    "\n",
    "x = m.add_variables(lower=0, coords=[time], name='x', )\n",
    "y = m.add_variables(lower=0, coords=[time], name='y')\n",
    "\n",
    "factor = pd.Series(time, index=time)\n",
    "\n",
    "con1 = m.add_constraints(3*x + 7*y >= 10*factor, name='con1')\n",
    "con2 = m.add_constraints(5*x + 2*y >= 3*factor, name='con2')\n",
    "\n",
    "m.add_objective(x + 2*y)\n",
    "m.solve()\n",
    "\n",
    "m.solve();\n",
    "sol = m.solution.to_dataframe()\n",
    "sol.plot(grid=True, ylabel='Optimal Value')"
   ]
  },
  {
   "cell_type": "code",
   "execution_count": null,
   "metadata": {},
   "outputs": [],
   "source": [
    "import linopy\n",
    "\n",
    "m = linopy.Model()\n",
    "import pandas as pd\n",
    "time = pd.Index(range(10), name='time')\n",
    "\n",
    "x = m.add_variables(lower=0, coords=[time], name='x', )\n",
    "y = m.add_variables(lower=0, coords=[time], name='y')\n"
   ]
  },
  {
   "cell_type": "markdown",
   "metadata": {},
   "source": []
  },
  {
   "cell_type": "code",
   "execution_count": null,
   "metadata": {},
   "outputs": [],
   "source": [
    "import linopy\n",
    "import numpy as np\n",
    "\n",
    "# 定义变量\n",
    "\n",
    "m = linopy.Model()\n",
    "\n",
    "x = m.add_variables(name='x',lower=0)\n",
    "y = m.add_variables(name='y',lower=0)\n",
    "\n",
    "# 定义目标函数\n",
    "objective = 3 * x + 2 * y\n",
    "\n",
    "# 定义约束\n",
    "A = np.array([[1, 2], [-1, 1]])\n",
    "b = np.array([2, 1])\n",
    "\n",
    "# 添加约束到问题中\n",
    "\n",
    "# 创建问题实例\n",
    "m.add_constraints(A @ [x, y] <= b)\n",
    "\n",
    "m.add_objective(objective)\n",
    "\n",
    "# 求解问题\n",
    "solution = m.solve()\n",
    "\n",
    "# 打印结果\n",
    "print(\"Solution:\", solution.value)\n",
    "print(\"Optimal values of variables:\", solution.variables)\n"
   ]
  },
  {
   "cell_type": "code",
   "execution_count": null,
   "metadata": {},
   "outputs": [],
   "source": [
    "from optlang.scipy_interface import Model, Variable, Constraint, Objective\n",
    "\n",
    "# All the (symbolic) variables are declared, with a name and optionally a lower and/or upper bound.\n",
    "x1 = Variable('x1', lb=0, ub = 100)\n",
    "x2 = Variable('x2', lb=0)\n",
    "x3 = Variable('x3', lb=0)\n",
    "\n",
    "# A constraint is constructed from an expression of variables and a lower and/or upper bound (lb and ub).\n",
    "c1 = Constraint(x1 + x2 + x3, lb = -100 ,ub=100)\n",
    "c2 = Constraint(10 * x1 + 4 * x2 + 5 * x3, ub=200)\n",
    "c3 = Constraint(2 * x1 + 2 * x2 + 6 * x3, ub=300)\n",
    "\n",
    "# An objective can be formulated\n",
    "obj = Objective(10 * x1 + 6 * x2 + 4 * x3, direction='max')\n",
    "\n",
    "# Variables, constraints and objective are combined in a Model object, which can subsequently be optimized.\n",
    "model = Model(name='Simple model')\n",
    "model.objective = obj\n",
    "# model.configuration.lp_method = 'simplex'\n",
    "model.add([c1, c2, c3])\n",
    "\n",
    "status = model.optimize()\n",
    "\n",
    "print(\"status:\", model.status)\n",
    "print(\"objective value:\", model.objective.value)\n",
    "print(\"----------\")\n",
    "for var_name, var in model.variables.iteritems():\n",
    "    print(var_name, \"=\", var.primal)"
   ]
  },
  {
   "cell_type": "code",
   "execution_count": null,
   "metadata": {},
   "outputs": [],
   "source": [
    "import linopy\n",
    "import numpy as np\n",
    "\n",
    "# 定义线性规划问题的系数\n",
    "A = np.array([[1, 2], [-1, 1], [2, 1]])  # 不等式约束的系数矩阵\n",
    "b = np.array([1, 0, 3])  # 不等式约束的右侧常数\n",
    "c = np.array([-1, -2])  # 目标函数的系数\n",
    "\n",
    "# 创建 linopy 模型\n",
    "model = linopy.Model()\n",
    "\n",
    "# 添加变量\n",
    "x = model.add_variables(2)\n",
    "\n",
    "# 添加约束\n",
    "for i in range(len(A)):\n",
    "    model.add_constraints(A[i, :] * x <= b[i])\n",
    "\n",
    "# 设置目标函数\n",
    "model.set_objective(c @ x)\n",
    "\n",
    "# 求解模型\n",
    "solution = model.optimize()\n",
    "\n",
    "# 打印结果\n",
    "print(\"最优解 x:\", solution.x)\n",
    "print(\"最优值:\", solution.objective_value)\n"
   ]
  },
  {
   "cell_type": "code",
   "execution_count": null,
   "metadata": {},
   "outputs": [],
   "source": [
    "import pulp as pl\n",
    "solver_list = pl.listSolvers()\n",
    "print(solver_list)"
   ]
  },
  {
   "cell_type": "code",
   "execution_count": null,
   "metadata": {},
   "outputs": [],
   "source": [
    "import pulp as pl\n",
    "solver_list = pl.listSolvers(onlyAvailable=True)\n",
    "print(solver_list)"
   ]
  },
  {
   "cell_type": "code",
   "execution_count": null,
   "metadata": {},
   "outputs": [],
   "source": [
    "r\"\"\"\n",
    "Author: Louis Luangkesorn <lugerpitt@gmail.com> 2019\n",
    "https://github.com/lluang\n",
    "\n",
    "Title: Gemstone Optimization problem\n",
    "\n",
    "Problem taken from Data, Models, and Decisions by Bertsimas and Freund, 4th Edition\n",
    "DMD 7.2\n",
    "\n",
    "## 2 stage problem\n",
    "\n",
    "- **Scenarios:** $s \\in S = (1, 2, 3, 4)$\n",
    "- **Probability scenario occuring:** $p^s$\n",
    "- **Cost of steel:** $c$\n",
    "- **Total steel:** $cap_{steel}$\n",
    "- **Total molding and assembly hours:** $cap_{molding}, cap_{assembly}^s$\n",
    "- **Wrench and plier earnings by scenario:** $w^s, p^s$\n",
    "- **Max demand wrenches and pliers:** $UB_w, UB_p$\n",
    "- **Decision variables**\n",
    "  - $(W_{t+1}^s, P_{t+1}^s)$\n",
    "- **Objective**   $Max \\sum_s (p^s * (w^s W_{t+1}^s + p^s P_{t+1}^s) - c$\n",
    "- **Steel Constraint:** $1.5W_{t+1}^1 + P_{t+1}^1 - C \\le 0$\n",
    "- **Molding Constraint:** $W_{t+1}^1 + P_{t+1}^1 \\le cap_{molding}$\n",
    "- **Assembly Constraint:** $0.3 W_{t+1}^1 + 0.5 P_{t+1}^1  \\le cap_{molding}^s$\n",
    "- **Demand Limit W:** $W \\le UB_w$\n",
    "- **Demand Limit P:** $P \\le UB_p$\n",
    "- **Nonnegativity:** $W, P \\ge 0$\n",
    "\"\"\"\n",
    "\n",
    "import pulp\n",
    "\n",
    "# parameters\n",
    "products = [\"wrenches\", \"pliers\"]\n",
    "price = [130, 100]\n",
    "steel = [1.5, 1]\n",
    "molding = [1, 1]\n",
    "assembly = [0.3, 0.5]\n",
    "capsteel = 27\n",
    "capmolding = 21\n",
    "LB = [0, 0]\n",
    "capacity_ub = [15, 16]\n",
    "steelprice = 58\n",
    "scenarios = [0, 1, 2, 3]\n",
    "pscenario = [0.25, 0.25, 0.25, 0.25]\n",
    "wrenchearnings = [160, 160, 90, 90]\n",
    "plierearnings = [100, 100, 100, 100]\n",
    "capassembly = [8, 10, 8, 10]\n",
    "\n",
    "production = [(j, i) for j in scenarios for i in products]\n",
    "pricescenario = [[wrenchearnings[j], plierearnings[j]] for j in scenarios]\n",
    "priceitems = [item for sublist in pricescenario for item in sublist]\n",
    "\n",
    "# create dictionaries for the parameters\n",
    "price_dict = dict(zip(production, priceitems))\n",
    "capacity_dict = dict(zip(products, capacity_ub * 4))\n",
    "steel_dict = dict(zip(products, steel))\n",
    "molding_dict = dict(zip(products, molding))\n",
    "assembly_dict = dict(zip(products, assembly))\n",
    "\n",
    "# Create variables and parameters as dictionaries\n",
    "production_vars = pulp.LpVariable.dicts(\n",
    "    \"production\", (scenarios, products), lowBound=0, cat=\"Continuous\"\n",
    ")\n",
    "steelpurchase = pulp.LpVariable(\"steelpurchase\", lowBound=0, cat=\"Continuous\")\n",
    "\n",
    "# Create the 'gemstoneprob' variable to specify\n",
    "gemstoneprob = pulp.LpProblem(\"The Gemstone Tool Problem\", pulp.LpMaximize)\n",
    "\n",
    "# The objective function is added to 'gemstoneprob' first\n",
    "gemstoneprob += (\n",
    "    pulp.lpSum(\n",
    "        [\n",
    "            pscenario[j] * (price_dict[(j, i)] * production_vars[j][i])\n",
    "            for (j, i) in production\n",
    "        ]\n",
    "        - steelpurchase * steelprice\n",
    "    ),\n",
    "    \"Total cost\",\n",
    ")\n",
    "\n",
    "for j in scenarios:\n",
    "    gemstoneprob += pulp.lpSum(\n",
    "        [steel_dict[i] * production_vars[j][i] for i in products]\n",
    "    ) - steelpurchase <= 0, (\"Steel capacity\" + str(j))\n",
    "    gemstoneprob += pulp.lpSum(\n",
    "        [molding_dict[i] * production_vars[j][i] for i in products]\n",
    "    ) <= capmolding, (\"molding capacity\" + str(j))\n",
    "    gemstoneprob += pulp.lpSum(\n",
    "        [assembly_dict[i] * production_vars[j][i] for i in products]\n",
    "    ) <= capassembly[j], (\"assembly capacity\" + str(j))\n",
    "    for i in products:\n",
    "        gemstoneprob += production_vars[j][i] <= capacity_dict[i], (\n",
    "            \"capacity \" + str(i) + str(j)\n",
    "        )\n",
    "\n",
    "# Print problem\n",
    "print(gemstoneprob)\n",
    "\n",
    "# The problem data is written to an .lp file\n",
    "# gemstoneprob.writeLP(\"gemstoneprob.lp\")\n",
    "# The problem is solved using PuLP's choice of Solver\n",
    "gemstoneprob.solve()\n",
    "# The status of the solution is printed to the screen\n",
    "print(\"Status:\", pulp.LpStatus[gemstoneprob.status])\n",
    "\n",
    "# OUTPUT\n",
    "\n",
    "# Each of the variables is printed with it's resolved optimum value\n",
    "for v in gemstoneprob.variables():\n",
    "    print(v.name, \"=\", v.varValue)\n",
    "production = [v.varValue for v in gemstoneprob.variables()]\n",
    "\n",
    "# The optimised objective function value is printed to the console\n",
    "print(\"Total price = \", pulp.value(gemstoneprob.objective))"
   ]
  },
  {
   "cell_type": "code",
   "execution_count": 1,
   "metadata": {},
   "outputs": [
    {
     "name": "stdout",
     "output_type": "stream",
     "text": [
      "['GLPK_CMD', 'GUROBI', 'GUROBI_CMD', 'PULP_CBC_CMD', 'COIN_CMD', 'HiGHS']\n"
     ]
    }
   ],
   "source": [
    "import pulp as pl\n",
    "solver_list = pl.listSolvers(onlyAvailable=True)\n",
    "print(solver_list)"
   ]
  },
  {
   "cell_type": "code",
   "execution_count": 29,
   "metadata": {},
   "outputs": [],
   "source": [
    "import highspy"
   ]
  },
  {
   "cell_type": "code",
   "execution_count": 25,
   "metadata": {},
   "outputs": [
    {
     "name": "stdout",
     "output_type": "stream",
     "text": [
      "['GLPK_CMD', 'PYGLPK', 'CPLEX_CMD', 'CPLEX_PY', 'GUROBI', 'GUROBI_CMD', 'MOSEK', 'XPRESS', 'XPRESS', 'XPRESS_PY', 'PULP_CBC_CMD', 'COIN_CMD', 'COINMP_DLL', 'CHOCO_CMD', 'MIPCL_CMD', 'SCIP_CMD', 'FSCIP_CMD', 'SCIP_PY', 'HiGHS', 'HiGHS_CMD', 'COPT', 'COPT_DLL', 'COPT_CMD']\n"
     ]
    }
   ],
   "source": [
    "import pulp as pl\n",
    "solver_list = pl.listSolvers()\n",
    "print(solver_list)"
   ]
  },
  {
   "cell_type": "code",
   "execution_count": 3,
   "metadata": {},
   "outputs": [
    {
     "data": {
      "text/plain": [
       "'2.8.0'"
      ]
     },
     "execution_count": 3,
     "metadata": {},
     "output_type": "execute_result"
    }
   ],
   "source": [
    "import pulp\n",
    "pulp.__version__"
   ]
  },
  {
   "cell_type": "code",
   "execution_count": null,
   "metadata": {},
   "outputs": [],
   "source": [
    "import glpk\n",
    "import numpy as np\n",
    "\n",
    "# 定义模型\n",
    "model = glpk.LPX()\n",
    "\n",
    "# 定义反应\n",
    "reactions = ['R1', 'R2', 'R3']\n",
    "v_min = {'R1': 0, 'R2': 0, 'R3': 0}  # 下限速率\n",
    "v_max = {'R1': 10, 'R2': 10, 'R3': 10}  # 上限速率\n",
    "\n",
    "# 添加反应变量到模型\n",
    "v = {r: model.cols.add(name=r, obj=1.0, bounds=(v_min[r], v_max[r])) for r in reactions}\n",
    "\n",
    "# 定义代谢物\n",
    "metabolites = ['M1', 'M2', 'M3', 'M4', 'M5', 'M6']\n",
    "S = {m: model.cols.add(name=m, obj=0.0, bounds=(0, None)) for m in metabolites}\n",
    "\n",
    "# 定义平衡方程系数\n",
    "S_ij = {\n",
    "    ('R1', 'M1'): -1, ('R1', 'M2'): 1,\n",
    "    ('R2', 'M2'): -1, ('R2', 'M3'): 1,\n",
    "    ('R3', 'M3'): -1, ('R3', 'M4'): 1, ('R3', 'M5'): 1, ('R3', 'M6'): -1\n",
    "}\n",
    "\n",
    "# 添加平衡方程到模型\n",
    "for r in reactions:\n",
    "    for m in metabolites:\n",
    "        if (r, m) in S_ij:\n",
    "            model.rows.add(name=f\"{r}_{m}\", senses='E', rhs=0.0)\n",
    "            model.rows[-1].matrix = [(v[r], S_ij[(r, m)]), (S[m], -1.0)]\n",
    "\n",
    "# 设置目标函数（最小化总反应速率）\n",
    "model.obj.maximize = False\n",
    "\n",
    "# 求解模型\n",
    "model.simplex()\n",
    "\n",
    "# 输出结果\n",
    "print(\"Optimal Solution:\")\n",
    "for r in reactions:\n",
    "    print(f\"Reaction {r}: {v[r].value}\")\n",
    "for m in metabolites:\n",
    "    print(f\"Metabolite {m}: {S[m].value}\")\n"
   ]
  },
  {
   "cell_type": "code",
   "execution_count": null,
   "metadata": {},
   "outputs": [],
   "source": [
    "import pulp\n",
    "pulp.pulpTestAll()"
   ]
  },
  {
   "cell_type": "code",
   "execution_count": 12,
   "metadata": {},
   "outputs": [
    {
     "data": {
      "text/plain": [
       "<glpk.LPX 0-by-0 at 0x7f51e4043340>"
      ]
     },
     "execution_count": 12,
     "metadata": {},
     "output_type": "execute_result"
    }
   ],
   "source": [
    "import glpk\n",
    "glpk.LPX()"
   ]
  },
  {
   "cell_type": "code",
   "execution_count": 22,
   "metadata": {},
   "outputs": [
    {
     "data": {
      "text/plain": [
       "'0.4.7'"
      ]
     },
     "execution_count": 22,
     "metadata": {},
     "output_type": "execute_result"
    }
   ],
   "source": [
    "import glpk\n",
    "glpk.__version__"
   ]
  },
  {
   "cell_type": "code",
   "execution_count": 24,
   "metadata": {},
   "outputs": [
    {
     "ename": "ModuleNotFoundError",
     "evalue": "No module named 'glpkpy'",
     "output_type": "error",
     "traceback": [
      "\u001b[0;31m---------------------------------------------------------------------------\u001b[0m",
      "\u001b[0;31mModuleNotFoundError\u001b[0m                       Traceback (most recent call last)",
      "Cell \u001b[0;32mIn[24], line 1\u001b[0m\n\u001b[0;32m----> 1\u001b[0m \u001b[38;5;28;01mimport\u001b[39;00m \u001b[38;5;21;01mglpkpy\u001b[39;00m\n",
      "\u001b[0;31mModuleNotFoundError\u001b[0m: No module named 'glpkpy'"
     ]
    }
   ],
   "source": [
    "import glpkpy"
   ]
  }
 ],
 "metadata": {
  "kernelspec": {
   "display_name": "Python 3",
   "language": "python",
   "name": "python3"
  },
  "language_info": {
   "codemirror_mode": {
    "name": "ipython",
    "version": 3
   },
   "file_extension": ".py",
   "mimetype": "text/x-python",
   "name": "python",
   "nbconvert_exporter": "python",
   "pygments_lexer": "ipython3",
   "version": "3.8.0"
  }
 },
 "nbformat": 4,
 "nbformat_minor": 2
}
