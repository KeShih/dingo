{
 "cells": [
  {
   "cell_type": "code",
   "execution_count": 1,
   "metadata": {},
   "outputs": [
    {
     "name": "stdout",
     "output_type": "stream",
     "text": [
      "Cardinal Optimizer v7.1.3. Build date Apr 29 2024\n",
      "Copyright Cardinal Operations 2024. All Rights Reserved\n",
      "\n",
      "['GLPK_CMD', 'PYGLPK', 'CPLEX_CMD', 'CPLEX_PY', 'GUROBI', 'GUROBI_CMD', 'MOSEK', 'XPRESS', 'XPRESS', 'XPRESS_PY', 'PULP_CBC_CMD', 'COIN_CMD', 'COINMP_DLL', 'CHOCO_CMD', 'MIPCL_CMD', 'SCIP_CMD', 'FSCIP_CMD', 'SCIP_PY', 'HiGHS', 'HiGHS_CMD', 'COPT', 'COPT_DLL', 'COPT_CMD']\n"
     ]
    }
   ],
   "source": [
    "import pulp as pl\n",
    "solver_list = pl.listSolvers()\n",
    "print(solver_list)"
   ]
  },
  {
   "cell_type": "code",
   "execution_count": 2,
   "metadata": {},
   "outputs": [
    {
     "name": "stdout",
     "output_type": "stream",
     "text": [
      "Cardinal Optimizer v7.1.3. Build date Apr 29 2024\n",
      "Copyright Cardinal Operations 2024. All Rights Reserved\n",
      "\n",
      "['GLPK_CMD', 'GUROBI', 'GUROBI_CMD', 'PULP_CBC_CMD', 'COIN_CMD', 'HiGHS', 'COPT', 'COPT_DLL', 'COPT_CMD']\n"
     ]
    }
   ],
   "source": [
    "solver_list = pl.listSolvers(onlyAvailable=True)\n",
    "print(solver_list)"
   ]
  },
  {
   "cell_type": "code",
   "execution_count": null,
   "metadata": {},
   "outputs": [],
   "source": [
    "pyomo help --solvers"
   ]
  },
  {
   "cell_type": "code",
   "execution_count": null,
   "metadata": {},
   "outputs": [],
   "source": [
    "import linopy\n",
    "import pandas as pd\n",
    "import xarray as xr\n",
    "m = linopy.Model()\n",
    "time = pd.Index(range(10), name='time')\n",
    "\n",
    "x = m.add_variables(lower=0, coords=[time], name='x', )\n",
    "y = m.add_variables(lower=0, coords=[time], name='y')\n",
    "\n",
    "factor = pd.Series(time, index=time)\n",
    "\n",
    "con1 = m.add_constraints(3*x + 7*y >= 10*factor, name='con1')\n",
    "con2 = m.add_constraints(5*x + 2*y >= 3*factor, name='con2')\n",
    "\n",
    "m.add_objective(x + 2*y)\n",
    "m.solve()\n",
    "\n",
    "m.solve();\n",
    "sol = m.solution.to_dataframe()\n",
    "sol.plot(grid=True, ylabel='Optimal Value')"
   ]
  },
  {
   "cell_type": "code",
   "execution_count": null,
   "metadata": {},
   "outputs": [],
   "source": [
    "import linopy\n",
    "\n",
    "m = linopy.Model()\n",
    "import pandas as pd\n",
    "time = pd.Index(range(10), name='time')\n",
    "\n",
    "x = m.add_variables(lower=0, coords=[time], name='x', )\n",
    "y = m.add_variables(lower=0, coords=[time], name='y')\n"
   ]
  },
  {
   "cell_type": "markdown",
   "metadata": {},
   "source": []
  },
  {
   "cell_type": "code",
   "execution_count": null,
   "metadata": {},
   "outputs": [],
   "source": [
    "import linopy\n",
    "import numpy as np\n",
    "\n",
    "# 定义变量\n",
    "\n",
    "m = linopy.Model()\n",
    "\n",
    "x = m.add_variables(name='x',lower=0)\n",
    "y = m.add_variables(name='y',lower=0)\n",
    "\n",
    "# 定义目标函数\n",
    "objective = 3 * x + 2 * y\n",
    "\n",
    "# 定义约束\n",
    "A = np.array([[1, 2], [-1, 1]])\n",
    "b = np.array([2, 1])\n",
    "\n",
    "# 添加约束到问题中\n",
    "\n",
    "# 创建问题实例\n",
    "m.add_constraints(A @ [x, y] <= b)\n",
    "\n",
    "m.add_objective(objective)\n",
    "\n",
    "# 求解问题\n",
    "solution = m.solve()\n",
    "\n",
    "# 打印结果\n",
    "print(\"Solution:\", solution.value)\n",
    "print(\"Optimal values of variables:\", solution.variables)\n"
   ]
  },
  {
   "cell_type": "code",
   "execution_count": null,
   "metadata": {},
   "outputs": [],
   "source": [
    "from optlang.scipy_interface import Model, Variable, Constraint, Objective\n",
    "\n",
    "# All the (symbolic) variables are declared, with a name and optionally a lower and/or upper bound.\n",
    "x1 = Variable('x1', lb=0, ub = 100)\n",
    "x2 = Variable('x2', lb=0)\n",
    "x3 = Variable('x3', lb=0)\n",
    "\n",
    "# A constraint is constructed from an expression of variables and a lower and/or upper bound (lb and ub).\n",
    "c1 = Constraint(x1 + x2 + x3, lb = -100 ,ub=100)\n",
    "c2 = Constraint(10 * x1 + 4 * x2 + 5 * x3, ub=200)\n",
    "c3 = Constraint(2 * x1 + 2 * x2 + 6 * x3, ub=300)\n",
    "\n",
    "# An objective can be formulated\n",
    "obj = Objective(10 * x1 + 6 * x2 + 4 * x3, direction='max')\n",
    "\n",
    "# Variables, constraints and objective are combined in a Model object, which can subsequently be optimized.\n",
    "model = Model(name='Simple model')\n",
    "model.objective = obj\n",
    "# model.configuration.lp_method = 'simplex'\n",
    "model.add([c1, c2, c3])\n",
    "\n",
    "status = model.optimize()\n",
    "\n",
    "print(\"status:\", model.status)\n",
    "print(\"objective value:\", model.objective.value)\n",
    "print(\"----------\")\n",
    "for var_name, var in model.variables.iteritems():\n",
    "    print(var_name, \"=\", var.primal)"
   ]
  },
  {
   "cell_type": "code",
   "execution_count": null,
   "metadata": {},
   "outputs": [],
   "source": [
    "import linopy\n",
    "import numpy as np\n",
    "\n",
    "# 定义线性规划问题的系数\n",
    "A = np.array([[1, 2], [-1, 1], [2, 1]])  # 不等式约束的系数矩阵\n",
    "b = np.array([1, 0, 3])  # 不等式约束的右侧常数\n",
    "c = np.array([-1, -2])  # 目标函数的系数\n",
    "\n",
    "# 创建 linopy 模型\n",
    "model = linopy.Model()\n",
    "\n",
    "# 添加变量\n",
    "x = model.add_variables(2)\n",
    "\n",
    "# 添加约束\n",
    "for i in range(len(A)):\n",
    "    model.add_constraints(A[i, :] * x <= b[i])\n",
    "\n",
    "# 设置目标函数\n",
    "model.set_objective(c @ x)\n",
    "\n",
    "# 求解模型\n",
    "solution = model.optimize()\n",
    "\n",
    "# 打印结果\n",
    "print(\"最优解 x:\", solution.x)\n",
    "print(\"最优值:\", solution.objective_value)\n"
   ]
  },
  {
   "cell_type": "code",
   "execution_count": 1,
   "metadata": {},
   "outputs": [
    {
     "name": "stdout",
     "output_type": "stream",
     "text": [
      "Cardinal Optimizer v7.1.3. Build date Apr 29 2024\n",
      "Copyright Cardinal Operations 2024. All Rights Reserved\n",
      "2024-05-24 00:09:32 [INFO] checks license for COPT v7.1.3 20240429\n",
      "2024-05-24 00:09:32 [WARN] no license files in current working folder: /home/keshi/Code/Python/dingo/tests\n",
      "2024-05-24 00:09:32 [WARN] no license files in binary folder: /usr/local/bin\n",
      "2024-05-24 00:09:32 [WARN] no license files in HOME folder: /home/keshi/copt\n",
      "2024-05-24 00:09:32 [INFO] empty environment variable: COPT_LICENSE_DIR\n",
      "2024-05-24 00:09:32 [WARN] no license files in EV 'COPT_LICENSE_DIR': \n",
      "\n",
      "No license found. Starting COPT with size limitations for non-commercial use\n",
      "Please apply for a license from www.shanshu.ai/copt\n",
      "\n",
      "\n",
      "['GLPK_CMD', 'PYGLPK', 'CPLEX_CMD', 'CPLEX_PY', 'GUROBI', 'GUROBI_CMD', 'MOSEK', 'XPRESS', 'XPRESS', 'XPRESS_PY', 'PULP_CBC_CMD', 'COIN_CMD', 'COINMP_DLL', 'CHOCO_CMD', 'MIPCL_CMD', 'SCIP_CMD', 'FSCIP_CMD', 'SCIP_PY', 'HiGHS', 'HiGHS_CMD', 'COPT', 'COPT_DLL', 'COPT_CMD']\n"
     ]
    }
   ],
   "source": [
    "import pulp as pl\n",
    "solver_list = pl.listSolvers()\n",
    "print(solver_list)"
   ]
  },
  {
   "cell_type": "code",
   "execution_count": 8,
   "metadata": {},
   "outputs": [
    {
     "name": "stdout",
     "output_type": "stream",
     "text": [
      "Cardinal Optimizer v7.1.3. Build date Apr 29 2024\n",
      "Copyright Cardinal Operations 2024. All Rights Reserved\n",
      "2024-05-24 00:15:12 [INFO] checks license for COPT v7.1.3 20240429\n",
      "2024-05-24 00:15:12 [WARN] no license files in current working folder: /home/keshi/Code/Python/dingo/tests\n",
      "2024-05-24 00:15:12 [WARN] no license files in binary folder: /usr/local/bin\n",
      "2024-05-24 00:15:12 [WARN] no license files in HOME folder: /home/keshi/copt\n",
      "2024-05-24 00:15:12 [INFO] empty environment variable: COPT_LICENSE_DIR\n",
      "2024-05-24 00:15:12 [WARN] no license files in EV 'COPT_LICENSE_DIR': \n",
      "\n",
      "No license found. Starting COPT with size limitations for non-commercial use\n",
      "Please apply for a license from www.shanshu.ai/copt\n",
      "\n",
      "\n",
      "['GLPK_CMD', 'GUROBI', 'GUROBI_CMD', 'PULP_CBC_CMD', 'COIN_CMD', 'HiGHS', 'COPT']\n"
     ]
    }
   ],
   "source": [
    "import pulp as pl\n",
    "solver_list = pl.listSolvers(onlyAvailable=True)\n",
    "print(solver_list)"
   ]
  },
  {
   "cell_type": "code",
   "execution_count": null,
   "metadata": {},
   "outputs": [],
   "source": []
  },
  {
   "cell_type": "code",
   "execution_count": 9,
   "metadata": {},
   "outputs": [
    {
     "name": "stdout",
     "output_type": "stream",
     "text": [
      "Cardinal Optimizer v7.1.3. Build date Apr 29 2024\n",
      "Copyright Cardinal Operations 2024. All Rights Reserved\n",
      "2024-05-24 00:15:31 [INFO] checks license for COPT v7.1.3 20240429\n",
      "2024-05-24 00:15:31 [WARN] no license files in current working folder: /home/keshi/Code/Python/dingo/tests\n",
      "2024-05-24 00:15:31 [WARN] no license files in binary folder: /usr/local/bin\n",
      "2024-05-24 00:15:31 [WARN] no license files in HOME folder: /home/keshi/copt\n",
      "2024-05-24 00:15:31 [INFO] empty environment variable: COPT_LICENSE_DIR\n",
      "2024-05-24 00:15:31 [WARN] no license files in EV 'COPT_LICENSE_DIR': \n",
      "\n",
      "No license found. Starting COPT with size limitations for non-commercial use\n",
      "Please apply for a license from www.shanshu.ai/copt\n",
      "\n",
      "\n",
      "Cardinal Optimizer v7.1.3. Build date Apr 29 2024\n",
      "Copyright Cardinal Operations 2024. All Rights Reserved\n",
      "2024-05-24 00:15:32 [INFO] checks license for COPT v7.1.3 20240429\n",
      "2024-05-24 00:15:32 [WARN] no license files in current working folder: /home/keshi/Code/Python/dingo/tests\n",
      "2024-05-24 00:15:32 [WARN] no license files in binary folder: /usr/local/bin\n",
      "2024-05-24 00:15:32 [WARN] no license files in HOME folder: /home/keshi/copt\n",
      "2024-05-24 00:15:32 [INFO] empty environment variable: COPT_LICENSE_DIR\n",
      "2024-05-24 00:15:32 [WARN] no license files in EV 'COPT_LICENSE_DIR': \n",
      "\n",
      "No license found. Starting COPT with size limitations for non-commercial use\n",
      "Please apply for a license from www.shanshu.ai/copt\n",
      "\n",
      "\n",
      "['GLPK_CMD', 'GUROBI', 'GUROBI_CMD', 'PULP_CBC_CMD', 'COIN_CMD', 'HiGHS', 'COPT']\n",
      "['GLPK_CMD', 'PYGLPK', 'CPLEX_CMD', 'CPLEX_PY', 'GUROBI', 'GUROBI_CMD', 'MOSEK', 'XPRESS', 'XPRESS', 'XPRESS_PY', 'PULP_CBC_CMD', 'COIN_CMD', 'COINMP_DLL', 'CHOCO_CMD', 'MIPCL_CMD', 'SCIP_CMD', 'FSCIP_CMD', 'SCIP_PY', 'HiGHS', 'HiGHS_CMD', 'COPT', 'COPT_DLL', 'COPT_CMD']\n"
     ]
    }
   ],
   "source": [
    "import pulp as pl\n",
    "!source ~/.zshrc\n",
    "solver_list = pl.listSolvers(onlyAvailable=True)\n",
    "solver_all = pl.listSolvers()\n",
    "print(solver_list)\n",
    "print(solver_all)"
   ]
  },
  {
   "cell_type": "code",
   "execution_count": null,
   "metadata": {},
   "outputs": [],
   "source": [
    "import highspy"
   ]
  },
  {
   "cell_type": "code",
   "execution_count": null,
   "metadata": {},
   "outputs": [],
   "source": [
    "import pulp as pl\n",
    "solver_list = pl.listSolvers()\n",
    "print(solver_list)"
   ]
  },
  {
   "cell_type": "code",
   "execution_count": null,
   "metadata": {},
   "outputs": [],
   "source": [
    "import pulp\n",
    "pulp.__version__"
   ]
  },
  {
   "cell_type": "code",
   "execution_count": null,
   "metadata": {},
   "outputs": [],
   "source": [
    "import glpk\n",
    "import numpy as np\n",
    "\n",
    "# 定义模型\n",
    "model = glpk.LPX()\n",
    "\n",
    "# 定义反应\n",
    "reactions = ['R1', 'R2', 'R3']\n",
    "v_min = {'R1': 0, 'R2': 0, 'R3': 0}  # 下限速率\n",
    "v_max = {'R1': 10, 'R2': 10, 'R3': 10}  # 上限速率\n",
    "\n",
    "# 添加反应变量到模型\n",
    "v = {r: model.cols.add(name=r, obj=1.0, bounds=(v_min[r], v_max[r])) for r in reactions}\n",
    "\n",
    "# 定义代谢物\n",
    "metabolites = ['M1', 'M2', 'M3', 'M4', 'M5', 'M6']\n",
    "S = {m: model.cols.add(name=m, obj=0.0, bounds=(0, None)) for m in metabolites}\n",
    "\n",
    "# 定义平衡方程系数\n",
    "S_ij = {\n",
    "    ('R1', 'M1'): -1, ('R1', 'M2'): 1,\n",
    "    ('R2', 'M2'): -1, ('R2', 'M3'): 1,\n",
    "    ('R3', 'M3'): -1, ('R3', 'M4'): 1, ('R3', 'M5'): 1, ('R3', 'M6'): -1\n",
    "}\n",
    "\n",
    "# 添加平衡方程到模型\n",
    "for r in reactions:\n",
    "    for m in metabolites:\n",
    "        if (r, m) in S_ij:\n",
    "            model.rows.add(name=f\"{r}_{m}\", senses='E', rhs=0.0)\n",
    "            model.rows[-1].matrix = [(v[r], S_ij[(r, m)]), (S[m], -1.0)]\n",
    "\n",
    "# 设置目标函数（最小化总反应速率）\n",
    "model.obj.maximize = False\n",
    "\n",
    "# 求解模型\n",
    "model.simplex()\n",
    "\n",
    "# 输出结果\n",
    "print(\"Optimal Solution:\")\n",
    "for r in reactions:\n",
    "    print(f\"Reaction {r}: {v[r].value}\")\n",
    "for m in metabolites:\n",
    "    print(f\"Metabolite {m}: {S[m].value}\")\n"
   ]
  },
  {
   "cell_type": "code",
   "execution_count": 6,
   "metadata": {},
   "outputs": [],
   "source": []
  },
  {
   "cell_type": "code",
   "execution_count": null,
   "metadata": {},
   "outputs": [],
   "source": [
    "import glpk\n",
    "glpk.LPX()"
   ]
  },
  {
   "cell_type": "code",
   "execution_count": null,
   "metadata": {},
   "outputs": [],
   "source": [
    "import glpk\n",
    "glpk.__version__"
   ]
  },
  {
   "cell_type": "code",
   "execution_count": null,
   "metadata": {},
   "outputs": [],
   "source": [
    "import glpkpy"
   ]
  },
  {
   "cell_type": "code",
   "execution_count": null,
   "metadata": {},
   "outputs": [],
   "source": [
    "from sklearn.decomposition import PCA\n",
    "from sklearn.preprocessing import StandardScaler\n",
    "import numpy as np\n",
    "\n",
    "# 假设 X 是你的数据矩阵，每一行是一个样本，每一列是一个特征\n",
    "X = np.array([[1, 5 ,3 ,1], \n",
    "              [4,-4, 6,6], \n",
    "              [1, 4, 3, 2],\n",
    "              [4, 4, 2, 2],\n",
    "              [5, 5, 2, 4]])\n",
    "\n",
    "# 数据标准化\n",
    "scaler = StandardScaler()\n",
    "X_scaled = scaler.fit_transform(X)\n",
    "\n",
    "# 创建 PCA 对象\n",
    "pca = PCA(n_components=2)  # 假设我们想要降维到2维\n",
    "\n",
    "# 应用 PCA\n",
    "X_pca = pca.fit_transform(X_scaled)\n",
    "\n",
    "# 输出降维后的数据\n",
    "print('Reduced Data:')\n",
    "print(X_pca)\n"
   ]
  },
  {
   "cell_type": "code",
   "execution_count": null,
   "metadata": {},
   "outputs": [],
   "source": [
    "##Python实现PCA\n",
    "import numpy as np\n",
    "def pca(X,k):#k is the components you want\n",
    "  #mean of each feature\n",
    "  n_samples, n_features = X.shape\n",
    "  mean=np.array([np.mean(X[:,i]) for i in range(n_features)])\n",
    "  #normalization\n",
    "  norm_X=X-mean\n",
    "  #scatter matrix\n",
    "  scatter_matrix=np.dot(np.transpose(norm_X),norm_X)\n",
    "  #Calculate the eigenvectors and eigenvalues\n",
    "  eig_val, eig_vec = np.linalg.eig(scatter_matrix)\n",
    "  eig_pairs = [(np.abs(eig_val[i]), eig_vec[:,i]) for i in range(n_features)]\n",
    "  # sort eig_vec based on eig_val from highest to lowest\n",
    "  eig_pairs.sort(reverse=True)\n",
    "  # select the top k eig_vec\n",
    "  feature=np.array([ele[1] for ele in eig_pairs[:k]])\n",
    "  #get new data\n",
    "  data=np.dot(norm_X,np.transpose(feature))\n",
    "  return data\n",
    "\n",
    "X = np.array([[1, 5 ,3 ,1], \n",
    "              [4,-4, 6,6], \n",
    "              [1, 4, 3, 2],\n",
    "              [4, 4, 2, 2],\n",
    "              [5, 5, 2, 4]])\n",
    "print(pca(X,2))"
   ]
  },
  {
   "cell_type": "code",
   "execution_count": null,
   "metadata": {},
   "outputs": [],
   "source": [
    "import numpy as np\n",
    "import matplotlib.pyplot as plt\n",
    "from sklearn import svm\n",
    "\n",
    "# 正样本和负样本\n",
    "positive_samples = np.array([[1, 1], [2, 1], [2, 3]])\n",
    "negative_samples = np.array([[-1, -1], [0, -3], [-2, -4]])\n",
    "\n",
    "# 标签：1 代表正样本，-1 代表负样本\n",
    "positive_labels = np.ones(len(positive_samples))\n",
    "negative_labels = -np.ones(len(negative_samples))\n",
    "\n",
    "# 合并样本和标签\n",
    "samples = np.concatenate((positive_samples, negative_samples), axis=0)\n",
    "labels = np.concatenate((positive_labels, negative_labels), axis=0)\n",
    "\n",
    "# 创建SVM分类器\n",
    "clf = svm.SVC(kernel='linear', C=1.0)\n",
    "\n",
    "# 训练模型\n",
    "clf.fit(samples, labels)\n",
    "\n",
    "# 打印支持向量\n",
    "print(\"Support vectors:\", clf.support_vectors_)\n",
    "\n",
    "# 打印超平面的法向量\n",
    "print(\"Normal vector to the decision hyperplane:\", clf.coef_)\n",
    "\n",
    "# 打印超平面的截距\n",
    "print(\"Intercept to the decision hyperplane:\", clf.intercept_)\n",
    "\n",
    "# 绘制数据点\n",
    "plt.scatter(positive_samples[:, 0], positive_samples[:, 1], color='blue', label='Positive')\n",
    "plt.scatter(negative_samples[:, 0], negative_samples[:, 1], color='red', label='Negative')\n",
    "\n",
    "# 绘制支持向量\n",
    "plt.scatter(clf.support_vectors_[:, 0], clf.support_vectors_[:, 1], color='green', label='Support Vectors')\n",
    "\n",
    "# 绘制决策边界\n",
    "ax = plt.gca()\n",
    "xlim = ax.get_xlim()\n",
    "ylim = ax.get_ylim()\n",
    "\n",
    "# 创建网格来评估模型\n",
    "xx = np.linspace(xlim[0], xlim[1], 30)\n",
    "yy = np.linspace(ylim[0], ylim[1], 30)\n",
    "YY, XX = np.meshgrid(yy, xx)\n",
    "xy = np.vstack([XX.ravel(), YY.ravel()]).T\n",
    "Z = clf.decision_function(xy).reshape(XX.shape)\n",
    "\n",
    "# 绘制决策边界和边界\n",
    "ax.contour(XX, YY, Z, colors='k', levels=[-1, 0, 1], alpha=0.5, linestyles=['--', '-', '--'])\n",
    "\n",
    "# 绘制支持向量到决策边界的距离\n",
    "ax.scatter(clf.support_vectors_[:, 0], clf.support_vectors_[:, 1], s=100, linewidth=1, facecolors='none', edgecolors='k')\n",
    "\n",
    "# 设置图例\n",
    "plt.legend()\n",
    "\n",
    "# 显示图形\n",
    "plt.show()\n"
   ]
  },
  {
   "cell_type": "code",
   "execution_count": 5,
   "metadata": {},
   "outputs": [],
   "source": [
    "import numpy as np\n",
    "\n",
    "# 定义sigmoid函数\n",
    "def sigmoid(x):\n",
    "    return 1 / (1 + np.exp(-x))\n",
    "\n",
    "# 定义输入、权重、偏置和学习率\n",
    "x = np.array([0.80, 0.55, 0.20, 0.10])\n",
    "W1 = np.array([[0.10, 0.40, 0.35], [0.15, 0.20, 0.25], [0.05, 0.35, 0.40], [0.20, 0.25, 0.15]])\n",
    "W1 = W1.transpose()\n",
    "b1 = np.array([0.15, 0.10, 0.25])\n",
    "W2 = np.array([[0.20, 0.40], [0.35, 0.15], [0.30, 0.50]])\n",
    "W2 = W2.transpose()\n",
    "b2 = np.array([0.30, 0.20])\n",
    "y = np.array([1, 0])\n",
    "η = 0.01\n",
    "\n",
    "# 前向传播\n",
    "a1 = np.dot(W1, x) + b1\n",
    "z1 = sigmoid(a1)\n",
    "a2 = np.dot(W2, z1) + b2\n",
    "z2 = sigmoid(a2)\n",
    "\n",
    "# # 计算损失\n",
    "# L = -(y * np.log(z2) + (1 - y) * np.log(1 - z2))\n",
    "\n",
    "# # 后向传播\n",
    "# δ2 = z2 - y\n",
    "# δ1 = np.dot(W2.T, δ2) * z1 * (1 - z1)\n",
    "\n",
    "# # 更新权重\n",
    "# W2 -= η * np.dot(δ2, z1.T)\n",
    "# W1 -= η * np.dot(δ1, x.T)\n",
    "\n",
    "# # 输出更新后的W1[4,1]和W2[1,1]\n",
    "# print(\"Updated W1[4,1]:\", W1[3, 0])\n",
    "# print(\"Updated W2[1,1]:\", W2[0, 1])\n"
   ]
  },
  {
   "cell_type": "code",
   "execution_count": 6,
   "metadata": {},
   "outputs": [
    {
     "data": {
      "text/plain": [
       "array([0.3425, 0.625 , 0.7625])"
      ]
     },
     "execution_count": 6,
     "metadata": {},
     "output_type": "execute_result"
    }
   ],
   "source": [
    "a1 "
   ]
  },
  {
   "cell_type": "code",
   "execution_count": 7,
   "metadata": {},
   "outputs": [
    {
     "data": {
      "text/plain": [
       "array([0.58479767, 0.65135486, 0.68189626])"
      ]
     },
     "execution_count": 7,
     "metadata": {},
     "output_type": "execute_result"
    }
   ],
   "source": [
    "z1"
   ]
  },
  {
   "cell_type": "code",
   "execution_count": 8,
   "metadata": {},
   "outputs": [
    {
     "data": {
      "text/plain": [
       "array([0.84950262, 0.87257043])"
      ]
     },
     "execution_count": 8,
     "metadata": {},
     "output_type": "execute_result"
    }
   ],
   "source": [
    "a2"
   ]
  },
  {
   "cell_type": "code",
   "execution_count": 10,
   "metadata": {},
   "outputs": [
    {
     "data": {
      "text/plain": [
       "array([0.70046279, 0.70528027])"
      ]
     },
     "execution_count": 10,
     "metadata": {},
     "output_type": "execute_result"
    }
   ],
   "source": [
    "z2"
   ]
  },
  {
   "cell_type": "code",
   "execution_count": 15,
   "metadata": {},
   "outputs": [
    {
     "data": {
      "text/plain": [
       "0.020979975"
      ]
     },
     "execution_count": 15,
     "metadata": {},
     "output_type": "execute_result"
    }
   ],
   "source": [
    "*(1-0.7005)*0.7005*0.1"
   ]
  },
  {
   "cell_type": "code",
   "execution_count": 19,
   "metadata": {},
   "outputs": [
    {
     "data": {
      "text/plain": [
       "0.02428093551625711"
      ]
     },
     "execution_count": 19,
     "metadata": {},
     "output_type": "execute_result"
    }
   ],
   "source": [
    "0.58479767*(1-0.58479767)*0.1"
   ]
  },
  {
   "cell_type": "code",
   "execution_count": 20,
   "metadata": {},
   "outputs": [
    {
     "data": {
      "text/plain": [
       "-0.008304079946559932"
      ]
     },
     "execution_count": 20,
     "metadata": {},
     "output_type": "execute_result"
    }
   ],
   "source": [
    "0.02428093551625711*-0.342"
   ]
  }
 ],
 "metadata": {
  "kernelspec": {
   "display_name": "Python 3",
   "language": "python",
   "name": "python3"
  },
  "language_info": {
   "codemirror_mode": {
    "name": "ipython",
    "version": 3
   },
   "file_extension": ".py",
   "mimetype": "text/x-python",
   "name": "python",
   "nbconvert_exporter": "python",
   "pygments_lexer": "ipython3",
   "version": "3.8.0"
  }
 },
 "nbformat": 4,
 "nbformat_minor": 2
}
